{
 "cells": [
  {
   "cell_type": "markdown",
   "metadata": {},
   "source": [
    "## Programming Assignment 2 - Part 1\n",
    "### Cpts 355 - Fall 2015\n",
    "### An Interpreter for a Postscript-like Language"
   ]
  },
  {
   "cell_type": "markdown",
   "metadata": {},
   "source": [
    "### Assigned Sept. 11, 2015"
   ]
  },
  {
   "cell_type": "markdown",
   "metadata": {},
   "source": [
    "### Due Wednesday, Sept. 23, 2015\n",
    "Develop your code in a file named `sps.ipynb`, starting from this notebook file. When you are finished, upload `sps.ipynb` on the course Turnin Page. \n",
    "\n",
    "The entire interpreter project (Parts 1 and Part 2 together) will count for 10% of your course grade. This first part is worth 20% of that 10%: the intention is to make sure that you are on the right track and have a chance for mid-course correction before completing Part 2. However, note that the work and amount of code involved in Part 1 is a large fraction of the total project, so you need to get going on this part right away."
   ]
  },
  {
   "cell_type": "markdown",
   "metadata": {},
   "source": [
    "### This assignment is to be your own work. Refer to the course academic integrity statement in the syllabus."
   ]
  },
  {
   "cell_type": "markdown",
   "metadata": {},
   "source": [
    "## The problem\n",
    "In this assignment you will write an interpreter in Python for a small PostScript-like language, concentrating on key computational features of the abstract machine, omitting all PS features related to graphics, and using a somewhat-simplified syntax.\n",
    "\n",
    "The simplified language, SPS, has the following features of PS\n",
    "* integer constants, e.g. `123`: in python3 there is no practical limit on the size of integers\n",
    "* boolean constants, `true` and `false` (Note that the boolean constants in python are `True` and `False`)\n",
    "* name constants, e.g. `/fact`: start with a `/` and letter followed by an arbitrary sequence of letters and numbers\n",
    "* names to be looked up in the dictionary stack, e.g. `fact`: as for name constants, without the `/`\n",
    "* code constants: code between matched curly braces `{` ... `}`\n",
    "* built-in operators on numbers: `add`, `sub`, `mul`, `div`, `eq`, `lt`, `gt`\n",
    "* built-in operators on boolean values: `and`, `or`, `not`; these take boolean operands only. Anything else is an error.\n",
    "* built-in sequencing operators: `if`, `ifelse`; make sure that you understand the order of the operands on the stack. Play with ghostscript if necessary to help understand what is happening.\n",
    "* stack operators: `dup`, `exch`, `pop`\n",
    "* dictionary creation operator: `dictz`; takes no operands\n",
    "* dictionary stack manipulation operators: `begin`, `end`. `begin` requires one dictionary operand on the operand stack; `end` has no operands.\n",
    "* name definition operator: `def`. This requires two operands, a name and a value\n",
    "* defining (using `def`) and calling functions\n",
    "* stack printing operator (prints contents of stack without changing it): `stack`\n",
    "* top-of-stack printing operator (pops the top element of the stack and prints it): `=`\n"
   ]
  },
  {
   "cell_type": "markdown",
   "metadata": {},
   "source": [
    "## Requirements for Part 1 (Due Sept. 23)\n",
    "In Part 1 you will build some essential pieces of the interpreter but not yet the full interpreter. The pieces you build will be driven by Python test code rather than actual Postscript programs. The pieces you are going to build first are:\n",
    "* The operand stack\n",
    "* The dictionary stack\n",
    "* The operators that don't involve code arrays: all of the operators except `if`, `ifelse`.\n",
    "In Part 2 we will add the implementations for `if`, `ifelse`, calling functions, as well as interpreting input strings in the Postscript language.\n",
    "* Looking up names"
   ]
  },
  {
   "cell_type": "markdown",
   "metadata": {},
   "source": [
    "### The operand stack\n",
    "The operand stack should be implemented as a Python list. The list will contain **Python** integers, booleans, and strings. Python integers and booleans on the stack represent Postscript integers and booleans. Python strings on the stack represent names of Postscript variables (see the handling of names and the `def` operator below.\n",
    "\n",
    "When using a list as a stack one of the decisions you have to make is where the *hot* end of the stack is located. (The *hot* end is where pushing and popping happens). Will the hot end be at position `0`, the head of the list, or at position `-1`, the end of the list? It's your choice."
   ]
  },
  {
   "cell_type": "markdown",
   "metadata": {},
   "source": [
    "### The dictionary stack\n",
    "The dictionary stack is also implemented as a Python list. It will contain **Python** dictionaries which will be the implementation for **Postscript** dictionaries. The dictionary stack needs to support adding and removing dictionaries at the hot end, as well as defining and looking up names. "
   ]
  },
  {
   "cell_type": "markdown",
   "metadata": {},
   "source": [
    "### Operators\n",
    "Operators will be implemented as zero-argument Python functions that manipulate the operand and dictionary stacks. For example, the `add` operator could be implemented as the Python function\n",
    "```\n",
    "def add():\n",
    "    op1 = # pop the top value off the operand stack\n",
    "    op2 = # pop the top value off the operand stack\n",
    "    # push (op1 + op2) onto the operand stack\n",
    "```\n",
    "You may run into conflicts for some of the names of these functions . For example, the function for the `not` operator can't be named `not` because it is reserved for another use in Python. So you could do something like:\n",
    "```\n",
    "def psnot():\n",
    "    // pop the top value off the operand stack and push its negation onto the operand stack\n",
    "```    \n",
    "The `begin` and `end` operators are a little different in that they manipulate the dictionary stack in addition to or instead of the operand stack. Remember that the `dictz` operator affects *only* the operand stack.\n",
    "\n",
    "The `def` operator takes two operands from the operand stack: a string (recall that strings in the operand stack represent names of postscript variables) and a value. It changes the dictionary at the hot end of the dictionary stack so that the string is mapped to the value by that dictionary. Notice that `def` does ***not*** change the number of dictionaries on the dictionary stack!\n",
    "\n",
    "### Name lookup\n",
    "\n",
    "Name lookup is implemented by a Python function:\n",
    "```\n",
    "def lookup(name):\n",
    "    # search the dictionaries on the dictionary stack starting at the hot end to find one that contains name\n",
    "    # return the value associated with name\n",
    "```\n",
    "Note that name lookup is ***not*** a Postscript operator, but it ***is*** implemented by a Python function."
   ]
  },
  {
   "cell_type": "markdown",
   "metadata": {},
   "source": [
    "## Your Code Start Here"
   ]
  },
  {
   "cell_type": "code",
   "execution_count": 143,
   "metadata": {
    "collapsed": false
   },
   "outputs": [],
   "source": [
    "# The operand stack: define the operand stack and its operations in this notebook cell\n",
    "opstack = []\n",
    "\n",
    "# now define functions to push and pop values on the opstack according to your decision about which\n",
    "# end should be the hot end.\n",
    "\n",
    "# Pops an operator. Default pop(0) from the top\n",
    "def opPop(): \n",
    "    if len(opstack) > 0:\n",
    "        return opstack.pop()\n",
    "    pass\n",
    "\n",
    "# Pushes value to opstack\n",
    "def opPush(value):\n",
    "    opstack.append(value)\n",
    "    pass\n",
    "\n",
    "# Remember that there is a Postscript operator called \"pop\" so we choose different names for these functions.\n"
   ]
  },
  {
   "cell_type": "code",
   "execution_count": 144,
   "metadata": {
    "collapsed": false
   },
   "outputs": [],
   "source": [
    "# The dictionary stack: define the dictionary stack and its operations in this cell\n",
    "dictstack = [{}]\n",
    "# now define functions to push and pop dictionaries on the dictstack, to define name, and to lookup a name\n",
    "\n",
    "# Pops an entry in dictstack. Default pop(0) from the top\n",
    "def dictPop():\n",
    "    if len(dictstack) > 0:\n",
    "        return dictstack.pop() # default pop(0) from the top\n",
    "    pass\n",
    "\n",
    "# Pushes value to dictstack\n",
    "def dictPush(value):\n",
    "    dictstack.append(value)\n",
    "    pass\n",
    "\n",
    "# Pops name and value off opstack, sets var name and value association then pushes it onto dictstack\n",
    "# **Renamed psDef according to given test cases\n",
    "def psDef():\n",
    "    value = opPop()    \n",
    "    name = opPop()\n",
    "    opPush(name) # Put it back\n",
    "    opPush(value)\n",
    "    # Case: empty stack\n",
    "    if not dictstack: begin()\n",
    "    newdict = dictPop()\n",
    "    newdict[name] = value\n",
    "    dictPush(newdict)\n",
    "    pass\n",
    "\n",
    "# Traverses dictstack, returns v=0 if there is no definition for name\n",
    "def lookup(name):\n",
    "    v = 0\n",
    "    for each in dictstack:\n",
    "        v = each.get(name, 0)\n",
    "        if v != 0:\n",
    "            return v\n",
    "    return v\n",
    "    pass\n",
    "\n",
    "    # return the value associated with name\n",
    "    # what is your design decision about what to do when there is no definition for name"
   ]
  },
  {
   "cell_type": "code",
   "execution_count": 145,
   "metadata": {
    "collapsed": true
   },
   "outputs": [],
   "source": [
    "# Arithmetic operators: define all the arithmetic operators in this cell -- add, sub, mul, div, eq, lt, gt\n",
    "\n",
    "# Adds first two items on opstack\n",
    "def add():\n",
    "    first = opPop()\n",
    "    second = opPop()\n",
    "    opPush(first + second)\n",
    "\n",
    "# Subtracts first two items on opstack\n",
    "def sub():\n",
    "    first = opPop()\n",
    "    second = opPop()\n",
    "    opPush(first - second)\n",
    "\n",
    "# Multiplies first two items on opstack\n",
    "def mul():\n",
    "    first = opPop()\n",
    "    second = opPop()\n",
    "    opPush(first * second)\n",
    "\n",
    "# Divides the first item on opstack by the second item\n",
    "def div():\n",
    "    first = opPop()\n",
    "    second = opPop()                    \n",
    "    opPush(first / second)\n",
    "\n",
    "# True if first item equals second item\n",
    "def eq():\n",
    "    first = opPop()\n",
    "    second = opPop() \n",
    "    opPush(first == second)\n",
    "\n",
    "# True if first item < second item\n",
    "def lt():\n",
    "    first = opPop()\n",
    "    second = opPop() \n",
    "    opPush(first > second)\n",
    "\n",
    "# True if first item > second item\n",
    "def gt():\n",
    "    first = opPop()\n",
    "    second = opPop() \n",
    "    opPush(first < second)  \n",
    "\n"
   ]
  },
  {
   "cell_type": "code",
   "execution_count": 146,
   "metadata": {
    "collapsed": true
   },
   "outputs": [],
   "source": [
    "# Boolean operators: define all the boolean operators in this cell -- and, or, not\n",
    "\n",
    "# Logical bitwise and (both must be 1 to be true)\n",
    "def andd():\n",
    "    first = opPop()\n",
    "    second = opPop()\n",
    "    opPush(first and second)\n",
    "\n",
    "# Logical bitwise or (one must be 1 to be true)\n",
    "def orr():\n",
    "    first = opPop()\n",
    "    second = opPop()\n",
    "    opPush(first or second)\n",
    "\n",
    "# Reverses whatever the value on opstack was\n",
    "def nott():\n",
    "    opPush(not opPop())"
   ]
  },
  {
   "cell_type": "code",
   "execution_count": 147,
   "metadata": {
    "collapsed": true
   },
   "outputs": [],
   "source": [
    "# Define the stack manipulation operators in this cell: dup, exch, pop\n",
    "\n",
    "# Pops a value off opstack and pops it back on twice\n",
    "def dup():\n",
    "    first = opPop()\n",
    "    opPush(first)\n",
    "    opPush(first)\n",
    "\n",
    "# Pops values off opstack and pops them on in reverse order\n",
    "def exch():  \n",
    "    first = opPop()\n",
    "    second = opPop()\n",
    "    opPush(first)\n",
    "    opPush(second)\n",
    "\n",
    "# (see above) Pops an operator. Default pop(0) from the top\n",
    "# def opPop(): \n",
    "#     if len(opstack) > 0:\n",
    "#         return opstack.pop()\n",
    "#     pass"
   ]
  },
  {
   "cell_type": "code",
   "execution_count": 148,
   "metadata": {
    "collapsed": true
   },
   "outputs": [],
   "source": [
    "# Define the dictionary manipulation operators in this cell: dictz, begin, end, def\n",
    "# name the function for the def operator psDef because def is reserved in Python\n",
    "\n",
    "# Creates and returns a new dictionary\n",
    "def dictz():\n",
    "    newdict = {}\n",
    "    return newdict\n",
    "\n",
    "# Appends a new dictionary to dictstack\n",
    "def begin():\n",
    "    tmpdict = dictz()\n",
    "    dictstack.append(tmpdict)\n",
    "\n",
    "# Removes a dictionary from dictstack\n",
    "def end():\n",
    "    return dictstack.pop()\n",
    "\n",
    "# (see above) Pops name and value off opstack, sets var name and value association\n",
    "# then pushes it onto dictstack\n",
    "# def psDef():\n",
    "#    value = opPop()    \n",
    "#    name = opPop()\n",
    "#    opPush(name) # Put it back\n",
    "#    opPush(value)\n",
    "#    # Case: empty stack\n",
    "#    if not dictstack: begin()\n",
    "#    newdict = dictPop()\n",
    "#    newdict[name] = value\n",
    "#    dictPush(newdict)\n",
    "#    pass"
   ]
  },
  {
   "cell_type": "markdown",
   "metadata": {},
   "source": [
    "## Comment\n",
    "* `dictz` should push a dict on the `opstack`; `begin` will pop the dict from `opstack` and push to `dictstack`."
   ]
  },
  {
   "cell_type": "code",
   "execution_count": 149,
   "metadata": {
    "collapsed": true
   },
   "outputs": [],
   "source": [
    "# Define the printing operators in this cell: =, stack\n",
    "# Pick a good name for the code implementing =\n",
    "\n",
    "def pop_and_print():\n",
    "    first = opstack.pop\n",
    "    print(first)\n",
    "    \n",
    "def stack():\n",
    "    for each in opstack:\n",
    "        print(each)"
   ]
  },
  {
   "cell_type": "markdown",
   "metadata": {},
   "source": [
    "A typo\n",
    "`first = opstack.pop()`\n"
   ]
  },
  {
   "cell_type": "code",
   "execution_count": 150,
   "metadata": {
    "collapsed": false
   },
   "outputs": [],
   "source": [
    "# Define any other operators that I may have forgotten in this cell\n",
    "\n",
    "# ? Unclear"
   ]
  },
  {
   "cell_type": "markdown",
   "metadata": {},
   "source": [
    "## Test your code\n",
    "With all of that stuff defined, you will be able to test your interpreter using Python code like this:"
   ]
  },
  {
   "cell_type": "code",
   "execution_count": 151,
   "metadata": {
    "collapsed": false
   },
   "outputs": [],
   "source": [
    "def testAdd():\n",
    "    opPush(34)\n",
    "    opPush(16)\n",
    "    add()\n",
    "    if opPop() != 50: return False   \n",
    "    return True\n",
    "\n",
    "def testLookup():\n",
    "    opPush(\"n1\")\n",
    "    opPush(3)\n",
    "    psDef()\n",
    "    if lookup(\"n1\") != 3: return False\n",
    "    return True\n",
    "\n",
    "def testDictPush_Pop():\n",
    "    dictPush({\"Hello\": 400})\n",
    "    if dictPop() != {\"Hello\": 400}: return False\n",
    "    return True\n",
    "\n",
    "def testLt():\n",
    "    opPush(40)\n",
    "    opPush(50)\n",
    "    lt()\n",
    "    if opPop() != True: return False\n",
    "    return True\n",
    "\n",
    "def testGt():\n",
    "    opPush(50)\n",
    "    opPush(40)\n",
    "    gt()\n",
    "    if opPop() != True: return False\n",
    "    return True\n",
    "\n",
    "def testDup():\n",
    "    opPush(12);\n",
    "    dup()\n",
    "    first = opPop()\n",
    "    second = opPop()\n",
    "    if (first != 12) or (second != 12): return False\n",
    "    return True\n",
    "\n",
    "def testExch():\n",
    "    opPush(12);\n",
    "    opPush(24);\n",
    "    exch()\n",
    "    first = opPop()\n",
    "    second = opPop()\n",
    "    if (first != 12) and (second != 24): return False\n",
    "    return True\n",
    "\n",
    "def testBegin_Dictz():\n",
    "    dictstack.pop()\n",
    "    begin()\n",
    "    if not dictstack: return false\n",
    "    return True\n",
    "\n",
    "def testEnd():\n",
    "    dictstack.pop()\n",
    "    begin()\n",
    "    end()\n",
    "    if not dictstack: return True\n",
    "    return False\n",
    "\n",
    "# not called in testAll, output not shown\n",
    "def testpopandprint():\n",
    "    opPush(54)\n",
    "    pop_and_print()\n",
    "    \n",
    "# not called in testAll, output not shown    \n",
    "def teststack():\n",
    "    opPush(4)\n",
    "    opPush(2)\n",
    "    opPush(0)\n",
    "    stack()\n",
    "\n",
    "# go on writing test code for ALL of your code here; think about edge cases, and \n",
    "# other points where you are likely to make a mistake.\n",
    "\n",
    "# now an easy way to run all the test cases and make sure that they all return true\n",
    "# is\n",
    "\n",
    "testCases = [testAdd, testLookup]\n",
    "def testAll():\n",
    "    for test in testCases:\n",
    "        if not test(): return False\n",
    "    return True\n",
    "\n",
    "# but wouldn't it be nice to run all the tests, instead of stopping on the first failure,\n",
    "# and see which ones failed\n",
    "# How about something like:\n",
    "\n",
    "testCases = [('add', testAdd), ('lookup', testLookup), ('lt', testLt), ('gt', testGt), ('dup', testDup), ('exch', testExch), ('begin', testBegin_Dictz), ('end', testEnd)]\n",
    "def testAll():\n",
    "    failedTests = [testName for (testName, testProc) in testCases if not testProc()]\n",
    "    if failedTests:\n",
    "        return ('Some tests failed', failedTests)\n",
    "    else: return ('All tests OK')"
   ]
  },
  {
   "cell_type": "code",
   "execution_count": 152,
   "metadata": {
    "collapsed": false
   },
   "outputs": [
    {
     "data": {
      "text/plain": [
       "'All tests OK'"
      ]
     },
     "execution_count": 152,
     "metadata": {},
     "output_type": "execute_result"
    }
   ],
   "source": [
    "testAll()"
   ]
  },
  {
   "cell_type": "markdown",
   "metadata": {
    "collapsed": true
   },
   "source": [
    "## Summary\n",
    "## FinalScore = 97\n",
    "* Check the comments above and see the `dictz` and `begin`.\n",
    "* The ideas on stacks are good.\n",
    "* The code is elegant."
   ]
  }
 ],
 "metadata": {
  "kernelspec": {
   "display_name": "Python 3",
   "language": "python",
   "name": "python3"
  },
  "language_info": {
   "codemirror_mode": {
    "name": "ipython",
    "version": 3
   },
   "file_extension": ".py",
   "mimetype": "text/x-python",
   "name": "python",
   "nbconvert_exporter": "python",
   "pygments_lexer": "ipython3",
   "version": "3.5.0"
  }
 },
 "nbformat": 4,
 "nbformat_minor": 0
}
