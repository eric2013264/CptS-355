{
 "cells": [
  {
   "cell_type": "markdown",
   "metadata": {},
   "source": [
    "## Programming Assignment 2 - Part 1\n",
    "### Cpts 355 - Fall 2015\n",
    "### An Interpreter for a Postscript-like Language"
   ]
  },
  {
   "cell_type": "markdown",
   "metadata": {},
   "source": [
    "### Assigned Sept. 11, 2015"
   ]
  },
  {
   "cell_type": "markdown",
   "metadata": {},
   "source": [
    "### Due Wednesday, Sept. 23, 2015\n",
    "Develop your code in a file named `sps.ipynb`, starting from this notebook file. When you are finished, upload `sps.ipynb` on the course Turnin Page. \n",
    "\n",
    "The entire interpreter project (Parts 1 and Part 2 together) will count for 10% of your course grade. This first part is worth 20% of that 10%: the intention is to make sure that you are on the right track and have a chance for mid-course correction before completing Part 2. However, note that the work and amount of code involved in Part 1 is a large fraction of the total project, so you need to get going on this part right away."
   ]
  },
  {
   "cell_type": "markdown",
   "metadata": {},
   "source": [
    "### This assignment is to be your own work. Refer to the course academic integrity statement in the syllabus."
   ]
  },
  {
   "cell_type": "markdown",
   "metadata": {},
   "source": [
    "## The problem\n",
    "In this assignment you will write an interpreter in Python for a small PostScript-like language, concentrating on key computational features of the abstract machine, omitting all PS features related to graphics, and using a somewhat-simplified syntax.\n",
    "\n",
    "The simplified language, SPS, has the following features of PS\n",
    "* integer constants, e.g. `123`: in python3 there is no practical limit on the size of integers\n",
    "* boolean constants, `true` and `false` (Note that the boolean constants in python are `True` and `False`)\n",
    "* name constants, e.g. `/fact`: start with a `/` and letter followed by an arbitrary sequence of letters and numbers\n",
    "* names to be looked up in the dictionary stack, e.g. `fact`: as for name constants, without the `/`\n",
    "* code constants: code between matched curly braces `{` ... `}`\n",
    "* built-in operators on numbers: `add`, `sub`, `mul`, `div`, `eq`, `lt`, `gt`\n",
    "* built-in operators on boolean values: `and`, `or`, `not`; these take boolean operands only. Anything else is an error.\n",
    "* built-in sequencing operators: `if`, `ifelse`; make sure that you understand the order of the operands on the stack. Play with ghostscript if necessary to help understand what is happening.\n",
    "* stack operators: `dup`, `exch`, `pop`\n",
    "* dictionary creation operator: `dictz`; takes no operands\n",
    "* dictionary stack manipulation operators: `begin`, `end`. `begin` requires one dictionary operand on the operand stack; `end` has no operands.\n",
    "* name definition operator: `def`. This requires two operands, a name and a value\n",
    "* defining (using `def`) and calling functions\n",
    "* stack printing operator (prints contents of stack without changing it): `stack`\n",
    "* top-of-stack printing operator (pops the top element of the stack and prints it): `=`\n"
   ]
  },
  {
   "cell_type": "markdown",
   "metadata": {},
   "source": [
    "## Requirements for Part 1 (Due Sept. 23)\n",
    "In Part 1 you will build some essential pieces of the interpreter but not yet the full interpreter. The pieces you build will be driven by Python test code rather than actual Postscript programs. The pieces you are going to build first are:\n",
    "* The operand stack\n",
    "* The dictionary stack\n",
    "* The operators that don't involve code arrays: all of the operators except `if`, `ifelse`.\n",
    "In Part 2 we will add the implementations for `if`, `ifelse`, calling functions, as well as interpreting input strings in the Postscript language.\n",
    "* Looking up names"
   ]
  },
  {
   "cell_type": "markdown",
   "metadata": {},
   "source": [
    "### The operand stack\n",
    "The operand stack should be implemented as a Python list. The list will contain **Python** integers, booleans, and strings. Python integers and booleans on the stack represent Postscript integers and booleans. Python strings on the stack represent names of Postscript variables (see the handling of names and the `def` operator below.\n",
    "\n",
    "When using a list as a stack one of the decisions you have to make is where the *hot* end of the stack is located. (The *hot* end is where pushing and popping happens). Will the hot end be at position `0`, the head of the list, or at position `-1`, the end of the list? It's your choice."
   ]
  },
  {
   "cell_type": "markdown",
   "metadata": {},
   "source": [
    "### The dictionary stack\n",
    "The dictionary stack is also implemented as a Python list. It will contain **Python** dictionaries which will be the implementation for **Postscript** dictionaries. The dictionary stack needs to support adding and removing dictionaries at the hot end, as well as defining and looking up names. "
   ]
  },
  {
   "cell_type": "markdown",
   "metadata": {},
   "source": [
    "### Operators\n",
    "Operators will be implemented as zero-argument Python functions that manipulate the operand and dictionary stacks. For example, the `add` operator could be implemented as the Python function\n",
    "```\n",
    "def add():\n",
    "    op1 = # pop the top value off the operand stack\n",
    "    op2 = # pop the top value off the operand stack\n",
    "    # push (op1 + op2) onto the operand stack\n",
    "```\n",
    "You may run into conflicts for some of the names of these functions . For example, the function for the `not` operator can't be named `not` because it is reserved for another use in Python. So you could do something like:\n",
    "```\n",
    "def psnot():\n",
    "    // pop the top value off the operand stack and push its negation onto the operand stack\n",
    "```    \n",
    "The `begin` and `end` operators are a little different in that they manipulate the dictionary stack in addition to or instead of the operand stack. Remember that the `dictz` operator affects *only* the operand stack.\n",
    "\n",
    "The `def` operator takes two operands from the operand stack: a string (recall that strings in the operand stack represent names of postscript variables) and a value. It changes the dictionary at the hot end of the dictionary stack so that the string is mapped to the value by that dictionary. Notice that `def` does ***not*** change the number of dictionaries on the dictionary stack!\n",
    "\n",
    "### Name lookup\n",
    "\n",
    "Name lookup is implemented by a Python function:\n",
    "```\n",
    "def lookup(name):\n",
    "    # search the dictionaries on the dictionary stack starting at the hot end to find one that contains name\n",
    "    # return the value associated with name\n",
    "```\n",
    "Note that name lookup is ***not*** a Postscript operator, but it ***is*** implemented by a Python function."
   ]
  },
  {
   "cell_type": "markdown",
   "metadata": {},
   "source": [
    "## Your Code Start Here"
   ]
  },
  {
   "cell_type": "code",
   "execution_count": 1,
   "metadata": {
    "collapsed": false
   },
   "outputs": [],
   "source": [
    "# The operand stack: define the operand stack and its operations in this notebook cell\n",
    "opstack = []\n",
    "\n",
    "# now define functions to push and pop values on the opstack according to your decision about which\n",
    "# end should be the hot end.\n",
    "\n",
    "# Pops an operator. Default pop(0) from the top\n",
    "def opPop(): \n",
    "    if len(opstack) > 0:\n",
    "        return opstack.pop()\n",
    "\n",
    "# Pushes value to opstack\n",
    "def opPush(value):\n",
    "    opstack.append(value)\n",
    "\n",
    "# Remember that there is a Postscript operator called \"pop\" so we choose different names for these functions."
   ]
  },
  {
   "cell_type": "code",
   "execution_count": 2,
   "metadata": {
    "collapsed": false
   },
   "outputs": [],
   "source": [
    "# The dictionary stack: define the dictionary stack and its operations in this cell\n",
    "dictstack = [{}]\n",
    "# now define functions to push and pop dictionaries on the dictstack, to define name, and to lookup a name\n",
    "\n",
    "# Pops an entry in dictstack. Default pop(0) from the top\n",
    "def dictPop():\n",
    "    if dictstack == []:\n",
    "        print(\"dictstack is empty\")\n",
    "    return dictstack.pop()\n",
    "\n",
    "# Pushes value to dictstack\n",
    "def dictPush(value):\n",
    "    dictstack.append(value)\n",
    "\n",
    "# **Renamed psDef according to given test cases\n",
    "def psDef():\n",
    "    right = opPop()\n",
    "    left = opPop()\n",
    "    # If dictstack is empty\n",
    "    if dictstack == []:\n",
    "        # Append an empty dict\n",
    "        dictstack.append({})\n",
    "    value = dictPop()\n",
    "    value[left[1:]] = right\n",
    "    dictPush(value)\n",
    "    \n",
    "# If statement function\n",
    "def psIf():\n",
    "    right = opPop()\n",
    "    left = opPop()\n",
    "    tmpList = []\n",
    "    # If condition satisfied\n",
    "    if left == True:\n",
    "        args.clear()\n",
    "        for x in right:\n",
    "            tmpList.append(x)\n",
    "        interpret(tmpList)\n",
    "\n",
    "# If else statement function\n",
    "def psIfElse():\n",
    "    right = opPop()\n",
    "    middle = opPop()\n",
    "    left = opPop()\n",
    "    tmpList = []  \n",
    "    # If condition satisfied: execute if argument\n",
    "    if left == True:\n",
    "        args.clear()\n",
    "        for x in middle:\n",
    "            tmpList.append(x)\n",
    "        interpret(tmpList)\n",
    "    # Else condition satisdied: execute else argument    \n",
    "    else:                                           \n",
    "        args.clear()\n",
    "        for x in right:\n",
    "            tmpList.append(x)\n",
    "        interpret(tmpList)\n",
    "\n",
    "# Search the dictionaries on the dictionary stack starting at the hot end to find one that contains name and return \n",
    "# the value associated with name\n",
    "def lookup(name):\n",
    "    var = 0\n",
    "    tmp = []\n",
    "    \n",
    "    for x in dictstack:\n",
    "        tmp.append(x)\n",
    "\n",
    "    tmp.reverse()\n",
    "    \n",
    "    for y in tmp:\n",
    "        var = y.get(name, 0)\n",
    "        if var != 0:\n",
    "            return var\n",
    "    if var == 0: \n",
    "        print(\"Variable not found\")\n",
    "    return var\n",
    "\n",
    "    # return the value associated with name\n",
    "    # what is your design decision about what to do when there is no definition for name"
   ]
  },
  {
   "cell_type": "code",
   "execution_count": 3,
   "metadata": {
    "collapsed": true
   },
   "outputs": [],
   "source": [
    "# Arithmetic operators: define all the arithmetic operators in this cell -- add, sub, mul, div, eq, lt, gt\n",
    "\n",
    "# Adds first two items on opstack\n",
    "def add():\n",
    "    first = opPop()\n",
    "    second = opPop()\n",
    "    opPush(first + second)\n",
    "\n",
    "# Subtracts first two items on opstack\n",
    "def sub():\n",
    "    first = opPop()\n",
    "    second = opPop()\n",
    "    opPush((-1) * (first - second))\n",
    "     \n",
    "# Multiplies first two items on opstack\n",
    "def mul():\n",
    "    first = opPop()\n",
    "    second = opPop()\n",
    "    opPush(first * second)\n",
    "    \n",
    "# Divides the first item on opstack by the second item\n",
    "def div():\n",
    "    first = opPop()\n",
    "    second = opPop()                    \n",
    "    opPush(second / first)                      \n",
    "    \n",
    "# True if first item equals second item\n",
    "def eq():\n",
    "    first = opPop()\n",
    "    second = opPop() \n",
    "    opPush(first == second)\n",
    "\n",
    "# True if first item < second item\n",
    "def lt():\n",
    "    first = opPop()\n",
    "    second = opPop() \n",
    "    opPush(first > second)\n",
    "\n",
    "# True if first item > second item\n",
    "def gt():\n",
    "    first = opPop()\n",
    "    second = opPop() \n",
    "    opPush(first < second)  "
   ]
  },
  {
   "cell_type": "code",
   "execution_count": 4,
   "metadata": {
    "collapsed": true
   },
   "outputs": [],
   "source": [
    "# Boolean operators: define all the boolean operators in this cell -- and, or, not\n",
    "\n",
    "# Logical bitwise and (both must be 1 to be true)\n",
    "def andd():\n",
    "    first = opPop()\n",
    "    second = opPop()\n",
    "    opPush(first and second)\n",
    "\n",
    "# Logical bitwise or (one must be 1 to be true)\n",
    "def orr():\n",
    "    first = opPop()\n",
    "    second = opPop()\n",
    "    opPush(first or second)\n",
    "\n",
    "# Reverses whatever the value on opstack was\n",
    "def nott():\n",
    "    opPush(not opPop())"
   ]
  },
  {
   "cell_type": "code",
   "execution_count": 5,
   "metadata": {
    "collapsed": true
   },
   "outputs": [],
   "source": [
    "# Define the stack manipulation operators in this cell: dup, exch, pop\n",
    "\n",
    "# Pops a value off opstack and pops it back on twice\n",
    "def dup():\n",
    "    first = opPop()\n",
    "    opPush(first)\n",
    "    opPush(first)\n",
    "\n",
    "# Pops values off opstack and pops them on in reverse order\n",
    "def exch():  \n",
    "    first = opPop()\n",
    "    second = opPop()\n",
    "    opPush(first)\n",
    "    opPush(second)"
   ]
  },
  {
   "cell_type": "code",
   "execution_count": 6,
   "metadata": {
    "collapsed": false
   },
   "outputs": [],
   "source": [
    "# Define the dictionary manipulation operators in this cell: dictz, begin, end, def\n",
    "# name the function for the def operator psDef because def is reserved in Python\n",
    "\n",
    "# Creates and returns a new dictionary\n",
    "def dictz():\n",
    "    newdict = {}\n",
    "    opstack.append(newdict)\n",
    "\n",
    "# Appends a new dictionary to dictstack\n",
    "def begin():\n",
    "    d = opstack.pop()\n",
    "    if d != {}:\n",
    "        print(\"Error. Not a dictionary\");\n",
    "        exit(0)\n",
    "    dictstack.append(d) \n",
    "\n",
    "# Removes a dictionary from dictstack\n",
    "def end():\n",
    "    return dictstack.pop()"
   ]
  },
  {
   "cell_type": "code",
   "execution_count": 7,
   "metadata": {
    "collapsed": true
   },
   "outputs": [],
   "source": [
    "# = printing function. Only prints the top item of the opstack\n",
    "def pop_and_print():\n",
    "    print(\"Top element of opstack:\")\n",
    "    first = opstack.pop()\n",
    "    print(first)\n",
    "    opstack.append(first)\n",
    "    \n",
    "def stack():\n",
    "    tmp = []\n",
    "    print(\"\")\n",
    "    print(\"opstack:\")\n",
    "    while opstack != []:\n",
    "        tmp.append(opstack.pop())\n",
    "        print(tmp[-1])\n",
    "    while tmp != []:\n",
    "        opstack.append(tmp.pop())\n",
    "    \n",
    "def printdictstack():\n",
    "    tmp = []\n",
    "    print(\"\")\n",
    "    print(\"dictstack:\")\n",
    "    while dictstack != []:\n",
    "        tmp.append(dictstack.pop())\n",
    "        print(tmp[-1])\n",
    "    while tmp != []:\n",
    "        dictstack.append(tmp.pop())"
   ]
  },
  {
   "cell_type": "markdown",
   "metadata": {},
   "source": [
    "## Test your code\n",
    "With all of that stuff defined, you will be able to test your interpreter using Python code like this:"
   ]
  },
  {
   "cell_type": "code",
   "execution_count": 8,
   "metadata": {
    "collapsed": false
   },
   "outputs": [],
   "source": [
    "# Test cases from previous assignment removed to reduce clutter. It is tested below."
   ]
  },
  {
   "cell_type": "markdown",
   "metadata": {
    "collapsed": true
   },
   "source": [
    "----------------------------------------------------------------------------- **INTERPRETER PART 2** -----------------------------------------------------------------------------"
   ]
  },
  {
   "cell_type": "code",
   "execution_count": 9,
   "metadata": {
    "collapsed": false
   },
   "outputs": [],
   "source": [
    "import re\n",
    "\n",
    "# Given function Tokenize, which well, tokenizes the inputted program which prepares it for being parsed.\n",
    "def Tokenize(s):\n",
    "    programTokens = re.findall(\"/?[a-zA-Z][a-zA-Z0-9_]*|[-]?[0-9]+|%.*|[^ \\t\\n]\", s)\n",
    "    return Parse(programTokens)"
   ]
  },
  {
   "cell_type": "code",
   "execution_count": 10,
   "metadata": {
    "collapsed": true
   },
   "outputs": [],
   "source": [
    "# In this cell, write your parsing code; it takes a list of tokens produced by tokenize\n",
    "# and returns a code array; copy this cell into your sps.ipynb notebook and write the \n",
    "# necessary code. Of course you may create additional functions to help you write parse()\n",
    "\n",
    "# In this cell, write your parsing code; it takes a list of tokens produced by tokenize\n",
    "# and returns a code array; copy this cell into your sps.ipynb notebook and write the \n",
    "# necessary code. Of course you may create additional functions to help you write parse()\n",
    "# The parsing function will format all the tokens and check for bracket matching.\n",
    "bracketsMatch = 0\n",
    "# Takes a list of tokens, correctly parses it, and returns a code array.\n",
    "def Parse(programTokens):\n",
    "    code = []   # Code array\n",
    "    while programTokens != []:\n",
    "        \n",
    "        code.append(programTokens.pop(0))\n",
    "        # If it is a number\n",
    "        try:\n",
    "            code[-1] = int(code[-1])\n",
    "        except:\n",
    "            pass\n",
    "        # If left bracket\n",
    "        if code[-1] == \"{\":\n",
    "            CheckBrackets(1 ,1)\n",
    "            code.pop()\n",
    "            code.append(Parse(programTokens))\n",
    "        # Close with right bracket\n",
    "        elif code[-1] == \"}\":\n",
    "            CheckBrackets(-1, 1)\n",
    "            code.pop()\n",
    "            return code\n",
    "    CheckBrackets(0, 0)\n",
    "    bracketsMatch = 0\n",
    "    return code\n",
    "\n",
    "# Helper function that checks if the brackets are paired up and for any mismatched brackets.\n",
    "def CheckBrackets(n, run):\n",
    "    global bracketsMatch\n",
    "    \n",
    "    bracketsMatch = bracketsMatch + n\n",
    "    if run == 1:\n",
    "        if bracketsMatch < 0:  # Checks for negative value \n",
    "            print(\"Error with brackets, please check input\")\n",
    "            exit(0)\n",
    "    elif run == 0:             # Checks at the end\n",
    "        if bracketsMatch != 0: # Should == 0\n",
    "            print(\"Error with brackets, please check input\")\n",
    "            exit(0)"
   ]
  },
  {
   "cell_type": "code",
   "execution_count": 11,
   "metadata": {
    "collapsed": true
   },
   "outputs": [],
   "source": [
    "# Function dict that stores and maps all the functions to strings\n",
    "functionDict = {}\n",
    "def InitializeFunctionDict():\n",
    "    global functionDict  \n",
    "    functionDict[\"pop\"] = opPop\n",
    "    functionDict[\"def\"] = psDef\n",
    "    functionDict[\"if\"] = psIf     \n",
    "    functionDict[\"ifelse\"] = psIfElse\n",
    "    functionDict[\"add\"] = add\n",
    "    functionDict[\"sub\"] = sub\n",
    "    functionDict[\"mul\"] = mul\n",
    "    functionDict[\"div\"] = div\n",
    "    functionDict[\"eq\"] = eq   \n",
    "    functionDict[\"lt\"] = lt\n",
    "    functionDict[\"gt\"] = gt\n",
    "    functionDict[\"and\"] = andd\n",
    "    functionDict[\"or\"] = orr\n",
    "    functionDict[\"not\"] = nott   \n",
    "    functionDict[\"dup\"] = dup\n",
    "    functionDict[\"exch\"] = exch\n",
    "    functionDict[\"dictz\"] = dictz\n",
    "    functionDict[\"begin\"] = begin\n",
    "    functionDict[\"end\"] = end\n",
    "    functionDict[\"pop_and_print\"] = pop_and_print\n",
    "    functionDict[\"=\"] = pop_and_print\n",
    "    functionDict[\"stack\"] = stack"
   ]
  },
  {
   "cell_type": "code",
   "execution_count": 12,
   "metadata": {
    "collapsed": true
   },
   "outputs": [],
   "source": [
    "# Copy this cell to your sps.ipynb and write the necessary code; again write\n",
    "# auxiliary functions if you need them. This will probably be the largest\n",
    "# function of the whole project, but it will have a very regular and obvious\n",
    "# structure if you've followed the plan of the assignment.\n",
    "\n",
    "# Function that takes a code array and reads and executes them\n",
    "def interpret(code):\n",
    "    while code != []:\n",
    "        try:\n",
    "            Execute(code.pop(0))\n",
    "        except:\n",
    "            print(\"Attempting to evaluate invalid argument\")\n",
    "\n",
    "# Helper/auxiliary function to call all the functions in the right order\n",
    "def interpreter(program):\n",
    "    opstack.clear()\n",
    "    dictstack.clear()\n",
    "    InitializeFunctionDict()\n",
    "    code = Tokenize(program)\n",
    "    interpret(code)\n",
    "    stack()\n",
    "    printdictstack()"
   ]
  },
  {
   "cell_type": "code",
   "execution_count": 13,
   "metadata": {
    "collapsed": true
   },
   "outputs": [],
   "source": [
    "# More utility functions in this cell for reading and executing the given arguments\n",
    "\n",
    "args = [] # List for storing arguments that aren't complete postscript statements\n",
    "# Reads and execute the arguments\n",
    "# Credit/Citation: collaborated with Jesse Chrisholm off github for the idea of these functions below\n",
    "def Execute(Argument):\n",
    "    global functionDict\n",
    "    global args\n",
    "    \n",
    "    exception = Execute2\n",
    "    args.append(Argument)\n",
    "    try:        # Check if the argument is in the dict\n",
    "        exception = functionDict.get(Argument, Execute2)\n",
    "    except:\n",
    "        pass\n",
    "    exception() # If not, use args\n",
    "    args.clear()\n",
    "    \n",
    "# Handles everything thats not a complete postscript command\n",
    "def Execute2(): \n",
    "    global args\n",
    "    \n",
    "    if type(args[0]) == str:\n",
    "        # Var args\n",
    "        if args[0][0] == \"/\":\n",
    "            opPush(args[0])\n",
    "        # If bool == true\n",
    "        elif args[0] == \"true\":\n",
    "            opPush(True)\n",
    "        # If bool == false\n",
    "        elif args[0] == \"false\":\n",
    "            opPush(False)\n",
    "        else:\n",
    "            # Look up var name in args list\n",
    "            var = lookup(args[0])\n",
    "            # If it has arguments\n",
    "            if type(var) == list: \n",
    "                varArgs = []  \n",
    "                for each in var:\n",
    "                    varArgs.append(each)\n",
    "                args.clear()\n",
    "                interpret(varArgs)\n",
    "                return\n",
    "            opPush(var) # Result goes on the stack\n",
    "                       \n",
    "    elif type(args[0]) == list:\n",
    "        opPush(args[0])\n",
    "    elif type(args[0]) == int:\n",
    "        opPush(args[0])\n",
    "    args.clear()\n",
    "    \n",
    "# If, If Else, the dictstack printing function are all found above the \"Interpreter Part 2\" line and their respective cells."
   ]
  },
  {
   "cell_type": "code",
   "execution_count": 14,
   "metadata": {
    "collapsed": false,
    "scrolled": true
   },
   "outputs": [
    {
     "name": "stdout",
     "output_type": "stream",
     "text": [
      "Top element of opstack:\n",
      "120\n",
      "\n",
      "opstack:\n",
      "120\n",
      "\n",
      "dictstack:\n",
      "{'fact': ['dictz', 'exch', 'exch', 'begin', '/n', 'exch', 'def', 'n', 2, 'lt', [1], ['n', 1, 'sub', 'fact', 'n', 'mul'], 'ifelse', 'end']}\n"
     ]
    }
   ],
   "source": [
    "interpreter(\n",
    "\"\"\"\n",
    "/fact{\n",
    "   dictz exch exch begin\n",
    "      /n exch def\n",
    "         n 2 lt\n",
    "         { 1}\n",
    "         {n 1 sub fact n mul }\n",
    "      ifelse\n",
    "   end\n",
    "}def\n",
    "5 fact =\n",
    "\"\"\"\n",
    ")"
   ]
  },
  {
   "cell_type": "markdown",
   "metadata": {},
   "source": [
    "# You may initial the functiondict directly like this:\n",
    "\n",
    "```\n",
    "functiondict = {\n",
    "    'add' : add,\n",
    "    'sub' : sub,\n",
    "    'mul' : mul,\n",
    "    'div' : div,\n",
    "    .....\n",
    "    .....\n",
    "}\n",
    "```"
   ]
  },
  {
   "cell_type": "markdown",
   "metadata": {
    "collapsed": true
   },
   "source": [
    "## Excellent overall. It is thorough, well designed and well presented.\n",
    "# 100"
   ]
  },
  {
   "cell_type": "code",
   "execution_count": null,
   "metadata": {
    "collapsed": true
   },
   "outputs": [],
   "source": []
  }
 ],
 "metadata": {
  "kernelspec": {
   "display_name": "Python 3",
   "language": "python",
   "name": "python3"
  },
  "language_info": {
   "codemirror_mode": {
    "name": "ipython",
    "version": 3
   },
   "file_extension": ".py",
   "mimetype": "text/x-python",
   "name": "python",
   "nbconvert_exporter": "python",
   "pygments_lexer": "ipython3",
   "version": "3.5.0"
  }
 },
 "nbformat": 4,
 "nbformat_minor": 0
}
